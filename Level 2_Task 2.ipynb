{
 "cells": [
  {
   "cell_type": "markdown",
   "id": "2d25d903",
   "metadata": {},
   "source": [
    "Task: Cuisine Combination\n",
    "Identify the most common combinations of\n",
    "cuisines in the dataset.\n",
    "Determine if certain cuisine combinations\n",
    "tend to have higher ratings."
   ]
  },
  {
   "cell_type": "code",
   "execution_count": 1,
   "id": "53cb2d65",
   "metadata": {},
   "outputs": [],
   "source": [
    "import pandas as pd\n",
    "import matplotlib.pyplot as plt"
   ]
  },
  {
   "cell_type": "code",
   "execution_count": 2,
   "id": "2ce9da47",
   "metadata": {},
   "outputs": [],
   "source": [
    "data = pd.read_csv(\"Dataset.csv\")"
   ]
  },
  {
   "cell_type": "code",
   "execution_count": 3,
   "id": "f76a6b06",
   "metadata": {},
   "outputs": [],
   "source": [
    "cuisines = data[\"Cuisines\"]\n",
    "aggregate_ratings = data[\"Aggregate rating\"]"
   ]
  },
  {
   "cell_type": "code",
   "execution_count": 4,
   "id": "ea83d18b",
   "metadata": {},
   "outputs": [],
   "source": [
    "cuisine_combinations_counts = cuisines.value_counts()"
   ]
  },
  {
   "cell_type": "code",
   "execution_count": 5,
   "id": "13aadba9",
   "metadata": {},
   "outputs": [
    {
     "name": "stdout",
     "output_type": "stream",
     "text": [
      "Most common cuisine combinations:\n",
      "North Indian                      936\n",
      "North Indian, Chinese             511\n",
      "Chinese                           354\n",
      "Fast Food                         354\n",
      "North Indian, Mughlai             334\n",
      "Cafe                              299\n",
      "Bakery                            218\n",
      "North Indian, Mughlai, Chinese    197\n",
      "Bakery, Desserts                  170\n",
      "Street Food                       149\n",
      "Name: Cuisines, dtype: int64\n"
     ]
    }
   ],
   "source": [
    "most_common_cuisine_combinations = cuisine_combinations_counts.head(10)\n",
    "print(\"Most common cuisine combinations:\")\n",
    "print(most_common_cuisine_combinations)"
   ]
  },
  {
   "cell_type": "code",
   "execution_count": 6,
   "id": "05cfa278",
   "metadata": {},
   "outputs": [],
   "source": [
    "cuisine_combinations_avg_rating = data.groupby(\"Cuisines\")[\"Aggregate rating\"].mean()\n"
   ]
  },
  {
   "cell_type": "code",
   "execution_count": 7,
   "id": "07159d82",
   "metadata": {},
   "outputs": [
    {
     "name": "stdout",
     "output_type": "stream",
     "text": [
      "\n",
      "Average ratings for the top 10 cuisine combinations:\n",
      "Cuisines\n",
      "American, BBQ, Sandwich         4.9\n",
      "American, Burger, Grill         4.9\n",
      "American, Caribbean, Seafood    4.9\n",
      "American, Coffee and Tea        4.9\n",
      "American, Sandwich, Tea         4.9\n",
      "BBQ, Breakfast, Southern        4.9\n",
      "Burger, Bar Food, Steak         4.9\n",
      "Continental, Indian             4.9\n",
      "European, Asian, Indian         4.9\n",
      "European, Contemporary          4.9\n",
      "Name: Aggregate rating, dtype: float64\n"
     ]
    }
   ],
   "source": [
    "top_10_avg_ratings = cuisine_combinations_avg_rating.nlargest(10)\n",
    "print(\"\\nAverage ratings for the top 10 cuisine combinations:\")\n",
    "print(top_10_avg_ratings)"
   ]
  },
  {
   "cell_type": "code",
   "execution_count": null,
   "id": "9308c1c7",
   "metadata": {},
   "outputs": [],
   "source": []
  }
 ],
 "metadata": {
  "kernelspec": {
   "display_name": "Python 3 (ipykernel)",
   "language": "python",
   "name": "python3"
  },
  "language_info": {
   "codemirror_mode": {
    "name": "ipython",
    "version": 3
   },
   "file_extension": ".py",
   "mimetype": "text/x-python",
   "name": "python",
   "nbconvert_exporter": "python",
   "pygments_lexer": "ipython3",
   "version": "3.9.13"
  }
 },
 "nbformat": 4,
 "nbformat_minor": 5
}
