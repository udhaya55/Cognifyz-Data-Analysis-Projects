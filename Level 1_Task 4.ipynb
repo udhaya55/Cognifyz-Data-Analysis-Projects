{
 "cells": [
  {
   "cell_type": "code",
   "execution_count": 1,
   "id": "4bf4607a",
   "metadata": {},
   "outputs": [],
   "source": [
    "import pandas as pd\n",
    "import matplotlib.pyplot as plt\n",
    "\n"
   ]
  },
  {
   "cell_type": "code",
   "execution_count": 2,
   "id": "317b1d03",
   "metadata": {},
   "outputs": [],
   "source": [
    "dataset = pd.read_csv('Dataset.csv')"
   ]
  },
  {
   "cell_type": "code",
   "execution_count": 3,
   "id": "b5a5af4c",
   "metadata": {},
   "outputs": [],
   "source": [
    "total_restaurants = len(dataset)\n",
    "restaurants_with_online_delivery = dataset['Has Online delivery'].value_counts().get('Yes', 0)\n",
    "percentage_with_online_delivery = (restaurants_with_online_delivery / total_restaurants) * 100"
   ]
  },
  {
   "cell_type": "code",
   "execution_count": 4,
   "id": "fefaf9ad",
   "metadata": {},
   "outputs": [
    {
     "name": "stdout",
     "output_type": "stream",
     "text": [
      "Percentage of restaurants that offer online delivery: 25.662234321013504\n"
     ]
    }
   ],
   "source": [
    "print(\"Percentage of restaurants that offer online delivery:\", percentage_with_online_delivery)"
   ]
  },
  {
   "cell_type": "code",
   "execution_count": 5,
   "id": "f89bf7a2",
   "metadata": {},
   "outputs": [],
   "source": [
    "average_rating_with_online_delivery = dataset[dataset['Has Online delivery'] == 'Yes']['Aggregate rating'].mean()\n",
    "average_rating_without_online_delivery = dataset[dataset['Has Online delivery'] == 'No']['Aggregate rating'].mean()\n"
   ]
  },
  {
   "cell_type": "code",
   "execution_count": 6,
   "id": "9e77195a",
   "metadata": {},
   "outputs": [
    {
     "name": "stdout",
     "output_type": "stream",
     "text": [
      "Average rating of restaurants with online delivery: 3.2488372093023306\n",
      "Average rating of restaurants without online delivery: 2.465295774647888\n"
     ]
    }
   ],
   "source": [
    "print(\"Average rating of restaurants with online delivery:\", average_rating_with_online_delivery)\n",
    "print(\"Average rating of restaurants without online delivery:\", average_rating_without_online_delivery)"
   ]
  },
  {
   "cell_type": "code",
   "execution_count": 7,
   "id": "2ee005b5",
   "metadata": {},
   "outputs": [
    {
     "data": {
      "image/png": "[encoded data removed]",
      "text/plain": [
       "<Figure size 432x288 with 1 Axes>"
      ]
     },
     "metadata": {
      "needs_background": "light"
     },
     "output_type": "display_data"
    }
   ],
   "source": [
    "labels = ['With Online Delivery', 'Without Online Delivery']\n",
    "average_ratings = [average_rating_with_online_delivery, average_rating_without_online_delivery]\n",
    "\n",
    "plt.bar(labels, average_ratings)\n",
    "plt.xlabel('Online Delivery')\n",
    "plt.ylabel('Average Rating')\n",
    "plt.title('Comparison of Average Ratings')\n",
    "plt.show()"
   ]
  },
  {
   "cell_type": "code",
   "execution_count": null,
   "id": "c5b0823b",
   "metadata": {},
   "outputs": [],
   "source": []
  }
 ],
 "metadata": {
  "kernelspec": {
   "display_name": "Python 3 (ipykernel)",
   "language": "python",
   "name": "python3"
  },
  "language_info": {
   "codemirror_mode": {
    "name": "ipython",
    "version": 3
   },
   "file_extension": ".py",
   "mimetype": "text/x-python",
   "name": "python",
   "nbconvert_exporter": "python",
   "pygments_lexer": "ipython3",
   "version": "3.9.13"
  }
 },
 "nbformat": 4,
 "nbformat_minor": 5
}
