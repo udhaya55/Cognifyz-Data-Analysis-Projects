{
 "cells": [
  {
   "cell_type": "code",
   "execution_count": 2,
   "id": "83879134",
   "metadata": {},
   "outputs": [],
   "source": [
    "import pandas as pd\n",
    "import matplotlib.pyplot as plt"
   ]
  },
  {
   "cell_type": "code",
   "execution_count": null,
   "id": "b2a1fd03",
   "metadata": {},
   "outputs": [],
   "source": [
    "dataset = pd.read_csv('Dataset.csv')"
   ]
  },
  {
   "cell_type": "code",
   "execution_count": null,
   "id": "cb8c54d0",
   "metadata": {},
   "outputs": [],
   "source": [
    "\n",
    "price_range_counts = dataset['Price range'].value_counts().sort_index()"
   ]
  },
  {
   "cell_type": "code",
   "execution_count": null,
   "id": "e9994065",
   "metadata": {},
   "outputs": [],
   "source": [
    "total_restaurants = len(dataset)\n",
    "percentage_per_price_range = (price_range_counts / total_restaurants) * 100"
   ]
  },
  {
   "cell_type": "code",
   "execution_count": null,
   "id": "aa91dd4d",
   "metadata": {},
   "outputs": [],
   "source": [
    "plt.bar(price_range_counts.index, price_range_counts.values)\n",
    "plt.xlabel('Price Range')\n",
    "plt.ylabel('Count')\n",
    "plt.title('Distribution of Price Ranges')\n",
    "plt.show()\n"
   ]
  },
  {
   "cell_type": "code",
   "execution_count": null,
   "id": "3fefcb79",
   "metadata": {},
   "outputs": [],
   "source": [
    "print(\"Percentage of restaurants in each price range category:\")\n",
    "print(percentage_per_price_range)"
   ]
  },
  {
   "cell_type": "code",
   "execution_count": null,
   "id": "80ab6e7a",
   "metadata": {},
   "outputs": [],
   "source": []
  }
 ],
 "metadata": {
  "kernelspec": {
   "display_name": "Python 3 (ipykernel)",
   "language": "python",
   "name": "python3"
  },
  "language_info": {
   "codemirror_mode": {
    "name": "ipython",
    "version": 3
   },
   "file_extension": ".py",
   "mimetype": "text/x-python",
   "name": "python",
   "nbconvert_exporter": "python",
   "pygments_lexer": "ipython3",
   "version": "3.9.13"
  }
 },
 "nbformat": 4,
 "nbformat_minor": 5
}
