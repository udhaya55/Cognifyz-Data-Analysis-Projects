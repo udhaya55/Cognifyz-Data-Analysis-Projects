{
 "cells": [
  {
   "cell_type": "code",
   "execution_count": 1,
   "id": "7c79e661",
   "metadata": {},
   "outputs": [],
   "source": [
    "import pandas as pd\n",
    "import matplotlib.pyplot as plt"
   ]
  },
  {
   "cell_type": "code",
   "execution_count": 2,
   "id": "ff9407fc",
   "metadata": {},
   "outputs": [],
   "source": [
    "data = pd.read_csv(\"Dataset.csv\")"
   ]
  },
  {
   "cell_type": "code",
   "execution_count": 3,
   "id": "6ea04570",
   "metadata": {},
   "outputs": [],
   "source": [
    "restaurant_with_highest_votes = data.loc[data[\"Votes\"].idxmax()]\n",
    "restaurant_with_lowest_votes = data.loc[data[\"Votes\"].idxmin()]"
   ]
  },
  {
   "cell_type": "code",
   "execution_count": 4,
   "id": "b7e57b98",
   "metadata": {},
   "outputs": [
    {
     "name": "stdout",
     "output_type": "stream",
     "text": [
      "   Restaurant ID         Restaurant Name  Country Code              City  \\\n",
      "0        6317637        Le Petit Souffle           162       Makati City   \n",
      "1        6304287        Izakaya Kikufuji           162       Makati City   \n",
      "2        6300002  Heat - Edsa Shangri-La           162  Mandaluyong City   \n",
      "3        6318506                    Ooma           162  Mandaluyong City   \n",
      "4        6314302             Sambo Kojin           162  Mandaluyong City   \n",
      "\n",
      "                                             Address  \\\n",
      "0  Third Floor, Century City Mall, Kalayaan Avenu...   \n",
      "1  Little Tokyo, 2277 Chino Roces Avenue, Legaspi...   \n",
      "2  Edsa Shangri-La, 1 Garden Way, Ortigas, Mandal...   \n",
      "3  Third Floor, Mega Fashion Hall, SM Megamall, O...   \n",
      "4  Third Floor, Mega Atrium, SM Megamall, Ortigas...   \n",
      "\n",
      "                                     Locality  \\\n",
      "0   Century City Mall, Poblacion, Makati City   \n",
      "1  Little Tokyo, Legaspi Village, Makati City   \n",
      "2  Edsa Shangri-La, Ortigas, Mandaluyong City   \n",
      "3      SM Megamall, Ortigas, Mandaluyong City   \n",
      "4      SM Megamall, Ortigas, Mandaluyong City   \n",
      "\n",
      "                                    Locality Verbose   Longitude   Latitude  \\\n",
      "0  Century City Mall, Poblacion, Makati City, Mak...  121.027535  14.565443   \n",
      "1  Little Tokyo, Legaspi Village, Makati City, Ma...  121.014101  14.553708   \n",
      "2  Edsa Shangri-La, Ortigas, Mandaluyong City, Ma...  121.056831  14.581404   \n",
      "3  SM Megamall, Ortigas, Mandaluyong City, Mandal...  121.056475  14.585318   \n",
      "4  SM Megamall, Ortigas, Mandaluyong City, Mandal...  121.057508  14.584450   \n",
      "\n",
      "                           Cuisines  ...          Currency Has Table booking  \\\n",
      "0        French, Japanese, Desserts  ...  Botswana Pula(P)               Yes   \n",
      "1                          Japanese  ...  Botswana Pula(P)               Yes   \n",
      "2  Seafood, Asian, Filipino, Indian  ...  Botswana Pula(P)               Yes   \n",
      "3                   Japanese, Sushi  ...  Botswana Pula(P)                No   \n",
      "4                  Japanese, Korean  ...  Botswana Pula(P)               Yes   \n",
      "\n",
      "  Has Online delivery Is delivering now Switch to order menu Price range  \\\n",
      "0                  No                No                   No           3   \n",
      "1                  No                No                   No           3   \n",
      "2                  No                No                   No           4   \n",
      "3                  No                No                   No           4   \n",
      "4                  No                No                   No           4   \n",
      "\n",
      "   Aggregate rating  Rating color Rating text Votes  \n",
      "0               4.8    Dark Green   Excellent   314  \n",
      "1               4.5    Dark Green   Excellent   591  \n",
      "2               4.4         Green   Very Good   270  \n",
      "3               4.9    Dark Green   Excellent   365  \n",
      "4               4.8    Dark Green   Excellent   229  \n",
      "\n",
      "[5 rows x 21 columns]\n"
     ]
    }
   ],
   "source": [
    "print(data.head())"
   ]
  },
  {
   "cell_type": "code",
   "execution_count": 5,
   "id": "c00219b3",
   "metadata": {},
   "outputs": [],
   "source": [
    "restaurant_with_highest_votes = data.loc[data[\"Votes\"].idxmax()]\n",
    "restaurant_with_lowest_votes = data.loc[data[\"Votes\"].idxmin()]"
   ]
  },
  {
   "cell_type": "code",
   "execution_count": 6,
   "id": "2121ac97",
   "metadata": {},
   "outputs": [
    {
     "name": "stdout",
     "output_type": "stream",
     "text": [
      "Restaurant with the highest number of votes:\n",
      "Restaurant ID                                                       51705\n",
      "Restaurant Name                                                      Toit\n",
      "Country Code                                                            1\n",
      "City                                                            Bangalore\n",
      "Address                 298, Namma Metro Pillar 62, 100 Feet Road, Ind...\n",
      "Locality                                                      Indiranagar\n",
      "Locality Verbose                                   Indiranagar, Bangalore\n",
      "Longitude                                                       77.640709\n",
      "Latitude                                                        12.979166\n",
      "Cuisines                                         Italian, American, Pizza\n",
      "Average Cost for two                                                 2000\n",
      "Currency                                               Indian Rupees(Rs.)\n",
      "Has Table booking                                                      No\n",
      "Has Online delivery                                                    No\n",
      "Is delivering now                                                      No\n",
      "Switch to order menu                                                   No\n",
      "Price range                                                             4\n",
      "Aggregate rating                                                      4.8\n",
      "Rating color                                                   Dark Green\n",
      "Rating text                                                     Excellent\n",
      "Votes                                                               10934\n",
      "Name: 728, dtype: object\n"
     ]
    }
   ],
   "source": [
    "print(\"Restaurant with the highest number of votes:\")\n",
    "print(restaurant_with_highest_votes)"
   ]
  },
  {
   "cell_type": "code",
   "execution_count": 7,
   "id": "600df976",
   "metadata": {},
   "outputs": [
    {
     "name": "stdout",
     "output_type": "stream",
     "text": [
      "\n",
      "Restaurant with the lowest number of votes:\n",
      "Restaurant ID                                                     6710645\n",
      "Restaurant Name                                          Cantinho da Gula\n",
      "Country Code                                                           30\n",
      "City                                                           S��o Paulo\n",
      "Address                 Rua Pedroso Alvarenga, 522, Itaim Bibi, S��o P...\n",
      "Locality                                                       Itaim Bibi\n",
      "Locality Verbose                                   Itaim Bibi, S��o Paulo\n",
      "Longitude                                                      -46.675667\n",
      "Latitude                                                          -23.581\n",
      "Cuisines                                                        Brazilian\n",
      "Average Cost for two                                                   55\n",
      "Currency                                               Brazilian Real(R$)\n",
      "Has Table booking                                                      No\n",
      "Has Online delivery                                                    No\n",
      "Is delivering now                                                      No\n",
      "Switch to order menu                                                   No\n",
      "Price range                                                             2\n",
      "Aggregate rating                                                      0.0\n",
      "Rating color                                                        White\n",
      "Rating text                                                     Not rated\n",
      "Votes                                                                   0\n",
      "Name: 69, dtype: object\n"
     ]
    }
   ],
   "source": [
    "print(\"\\nRestaurant with the lowest number of votes:\")\n",
    "print(restaurant_with_lowest_votes)"
   ]
  },
  {
   "cell_type": "code",
   "execution_count": 8,
   "id": "53e9c104",
   "metadata": {},
   "outputs": [],
   "source": [
    "data[\"Votes\"] = pd.to_numeric(data[\"Votes\"])\n",
    "data[\"Aggregate rating\"] = pd.to_numeric(data[\"Aggregate rating\"])"
   ]
  },
  {
   "cell_type": "code",
   "execution_count": 9,
   "id": "f93c7f84",
   "metadata": {},
   "outputs": [],
   "source": [
    "correlation = data[\"Votes\"].corr(data[\"Aggregate rating\"])"
   ]
  },
  {
   "cell_type": "code",
   "execution_count": 10,
   "id": "6f7e722c",
   "metadata": {},
   "outputs": [
    {
     "name": "stdout",
     "output_type": "stream",
     "text": [
      "\n",
      "Correlation between number of votes and rating: 0.3136905841954117\n"
     ]
    }
   ],
   "source": [
    "print(\"\\nCorrelation between number of votes and rating:\", correlation)"
   ]
  },
  {
   "cell_type": "code",
   "execution_count": 11,
   "id": "307fb861",
   "metadata": {},
   "outputs": [
    {
     "data": {
      "image/png": "[encoded data removed]",
      "text/plain": [
       "<Figure size 640x480 with 1 Axes>"
      ]
     },
     "metadata": {},
     "output_type": "display_data"
    }
   ],
   "source": [
    "plt.scatter(data[\"Votes\"], data[\"Aggregate rating\"])\n",
    "plt.xlabel(\"Number of Votes\")\n",
    "plt.ylabel(\"Aggregate rating\")\n",
    "plt.title(\"Correlation between Number of Votes and Restaurant Rating\")\n",
    "plt.show()"
   ]
  },
  {
   "cell_type": "code",
   "execution_count": null,
   "id": "1e5e4d5d",
   "metadata": {},
   "outputs": [],
   "source": []
  },
  {
   "cell_type": "code",
   "execution_count": null,
   "id": "462fbf18",
   "metadata": {},
   "outputs": [],
   "source": []
  }
 ],
 "metadata": {
  "kernelspec": {
   "display_name": "Python 3 (ipykernel)",
   "language": "python",
   "name": "python3"
  },
  "language_info": {
   "codemirror_mode": {
    "name": "ipython",
    "version": 3
   },
   "file_extension": ".py",
   "mimetype": "text/x-python",
   "name": "python",
   "nbconvert_exporter": "python",
   "pygments_lexer": "ipython3",
   "version": "3.9.13"
  }
 },
 "nbformat": 4,
 "nbformat_minor": 5
}
